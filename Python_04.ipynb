{
  "nbformat": 4,
  "nbformat_minor": 0,
  "metadata": {
    "colab": {
      "provenance": []
    },
    "kernelspec": {
      "name": "python3",
      "display_name": "Python 3"
    },
    "language_info": {
      "name": "python"
    }
  },
  "cells": [
    {
      "cell_type": "code",
      "execution_count": 3,
      "metadata": {
        "colab": {
          "base_uri": "https://localhost:8080/"
        },
        "id": "8XjyPDcRaQdH",
        "outputId": "8a8635c9-bc88-4c08-d0ac-09dbbd952973"
      },
      "outputs": [
        {
          "output_type": "stream",
          "name": "stdout",
          "text": [
            "HYDERABAD\n"
          ]
        }
      ],
      "source": [
        "#To Convert string into Upper Case\n",
        "\n",
        "x = \"Hyderabad\"\n",
        "x=x.upper()\n",
        "print(x)"
      ]
    },
    {
      "cell_type": "code",
      "source": [
        "#To Convert string into Lower Case\n",
        "\n",
        "a = \"FORECASTING\"\n",
        "a.lower()"
      ],
      "metadata": {
        "colab": {
          "base_uri": "https://localhost:8080/",
          "height": 35
        },
        "id": "yJGEEUytaoZQ",
        "outputId": "19c2b742-ec5c-4211-d7b1-3e55d31899c9"
      },
      "execution_count": 4,
      "outputs": [
        {
          "output_type": "execute_result",
          "data": {
            "text/plain": [
              "'forecasting'"
            ],
            "application/vnd.google.colaboratory.intrinsic+json": {
              "type": "string"
            }
          },
          "metadata": {},
          "execution_count": 4
        }
      ]
    },
    {
      "cell_type": "code",
      "source": [
        "x = \"I want to buy a bike\"\n",
        "\n",
        "#Objective here is to replace bike with car\n",
        "\n",
        "x.replace(\"bike\",\"car\")"
      ],
      "metadata": {
        "colab": {
          "base_uri": "https://localhost:8080/",
          "height": 35
        },
        "id": "Tz8t47BvbOWa",
        "outputId": "9b5f175e-02b4-492d-d12e-222a223bff63"
      },
      "execution_count": 5,
      "outputs": [
        {
          "output_type": "execute_result",
          "data": {
            "text/plain": [
              "'I want to buy a car'"
            ],
            "application/vnd.google.colaboratory.intrinsic+json": {
              "type": "string"
            }
          },
          "metadata": {},
          "execution_count": 5
        }
      ]
    },
    {
      "cell_type": "code",
      "source": [
        "#To Split the sentence into words\n",
        "\n",
        "a = \"Jio AirFiber to launch on September\"\n",
        "a.split(\" \")\n"
      ],
      "metadata": {
        "colab": {
          "base_uri": "https://localhost:8080/"
        },
        "id": "G33BYGvMddB3",
        "outputId": "8c2d4188-d323-4f0f-873c-d2eb86fcbdd7"
      },
      "execution_count": 6,
      "outputs": [
        {
          "output_type": "execute_result",
          "data": {
            "text/plain": [
              "['Jio', 'AirFiber', 'to', 'launch', 'on', 'September']"
            ]
          },
          "metadata": {},
          "execution_count": 6
        }
      ]
    },
    {
      "cell_type": "code",
      "source": [
        "#Concatenate two strings\n",
        "a = \"Weather\"\n",
        "b = \"Forecasting\"\n",
        "\n",
        "a+\" \"+b\n"
      ],
      "metadata": {
        "colab": {
          "base_uri": "https://localhost:8080/",
          "height": 35
        },
        "id": "3j-S8x4ievfy",
        "outputId": "e8b16a58-b84e-4d45-f5aa-c8df5984b955"
      },
      "execution_count": 7,
      "outputs": [
        {
          "output_type": "execute_result",
          "data": {
            "text/plain": [
              "'Weather Forecasting'"
            ],
            "application/vnd.google.colaboratory.intrinsic+json": {
              "type": "string"
            }
          },
          "metadata": {},
          "execution_count": 7
        }
      ]
    },
    {
      "cell_type": "markdown",
      "source": [
        "##Operators"
      ],
      "metadata": {
        "id": "rsMfS6fkgUgI"
      }
    },
    {
      "cell_type": "code",
      "source": [
        "x = 10\n",
        "y = 5\n",
        "z = x > y\n",
        "print (int(z))"
      ],
      "metadata": {
        "colab": {
          "base_uri": "https://localhost:8080/"
        },
        "id": "d2_QkNAcfMSc",
        "outputId": "40e7a0b8-08bc-4ee5-d330-e3ea98f2d8ed"
      },
      "execution_count": 6,
      "outputs": [
        {
          "output_type": "stream",
          "name": "stdout",
          "text": [
            "1\n"
          ]
        }
      ]
    },
    {
      "cell_type": "code",
      "source": [
        "x == y # '=' means assignment operator, '==' means comparison operator"
      ],
      "metadata": {
        "colab": {
          "base_uri": "https://localhost:8080/"
        },
        "id": "IQjFUSfViqqy",
        "outputId": "77b910e6-4f5f-4045-a142-158cce2ee12b"
      },
      "execution_count": 7,
      "outputs": [
        {
          "output_type": "execute_result",
          "data": {
            "text/plain": [
              "False"
            ]
          },
          "metadata": {},
          "execution_count": 7
        }
      ]
    },
    {
      "cell_type": "code",
      "source": [
        "x < y"
      ],
      "metadata": {
        "colab": {
          "base_uri": "https://localhost:8080/"
        },
        "id": "gYsizfMdubVb",
        "outputId": "e5cb02d6-a544-4957-d7e4-a83c737e3af9"
      },
      "execution_count": 8,
      "outputs": [
        {
          "output_type": "execute_result",
          "data": {
            "text/plain": [
              "False"
            ]
          },
          "metadata": {},
          "execution_count": 8
        }
      ]
    },
    {
      "cell_type": "code",
      "source": [
        "x != y"
      ],
      "metadata": {
        "colab": {
          "base_uri": "https://localhost:8080/"
        },
        "id": "GWLjvqarvWjX",
        "outputId": "e0791261-146c-41a2-cb29-7ebcad5e21fb"
      },
      "execution_count": 9,
      "outputs": [
        {
          "output_type": "execute_result",
          "data": {
            "text/plain": [
              "True"
            ]
          },
          "metadata": {},
          "execution_count": 9
        }
      ]
    },
    {
      "cell_type": "code",
      "source": [
        "'''\n",
        "1. python code to declare two variable as 200, 33 and use ifelse to print which is grateer than t\n",
        "the other\n",
        "2. Python code to declare two variables as \"Hello\" and 15 and type cast it to boolean\n",
        "'''"
      ],
      "metadata": {
        "id": "0Cltwk8Pvdgz"
      },
      "execution_count": 10,
      "outputs": []
    },
    {
      "cell_type": "code",
      "source": [
        "#1.\n",
        "a = 200\n",
        "b = 33\n",
        "\n",
        "if (a>b):\n",
        "  print(a)\n",
        "else:\n",
        "  print(b)"
      ],
      "metadata": {
        "colab": {
          "base_uri": "https://localhost:8080/"
        },
        "id": "5uay0pUX3Vpd",
        "outputId": "83406a20-eea3-4ab4-a177-01d881780290"
      },
      "execution_count": 13,
      "outputs": [
        {
          "output_type": "stream",
          "name": "stdout",
          "text": [
            "200\n"
          ]
        }
      ]
    },
    {
      "cell_type": "code",
      "source": [
        "#2.\n",
        "a = \"Hello\"  #Here we have to convert to boolean\n",
        "b = 15\n",
        "print(bool(a))\n",
        "print(bool(b))\n"
      ],
      "metadata": {
        "colab": {
          "base_uri": "https://localhost:8080/"
        },
        "id": "Z_HqObht33wO",
        "outputId": "917a9baa-8279-45bd-b211-39140b62a194"
      },
      "execution_count": 15,
      "outputs": [
        {
          "output_type": "stream",
          "name": "stdout",
          "text": [
            "True\n",
            "True\n"
          ]
        }
      ]
    },
    {
      "cell_type": "code",
      "source": [
        "'''\n",
        "1. Write a python code to declare 45 and check if divisible by both 5 and 9.\n",
        "\n",
        "'''"
      ],
      "metadata": {
        "id": "_sTOwPYC4jRS"
      },
      "execution_count": null,
      "outputs": []
    },
    {
      "cell_type": "code",
      "source": [
        "#1.\n",
        "a = 45\n",
        "print (45 % 5) # \"%\" always returns remainder\n",
        "\n",
        "#But the question is we want to check if both 5 and 9 are divisible\n",
        "\n",
        "'''\n",
        "OR\n",
        "A B Output\n",
        "0 0   0\n",
        "0 1   1\n",
        "1 0   1\n",
        "1 1   1\n",
        "\n",
        "AND\n",
        "A B Output\n",
        "0 0   0\n",
        "0 1   0\n",
        "1 0   0\n",
        "1 1   1\n",
        "'''\n",
        "((a % 5) ==0) and ((a % 9) ==0)"
      ],
      "metadata": {
        "colab": {
          "base_uri": "https://localhost:8080/"
        },
        "id": "kS4FKejh47uH",
        "outputId": "06bc6ff9-7adf-46a7-fdb8-965e329ca058"
      },
      "execution_count": 2,
      "outputs": [
        {
          "output_type": "stream",
          "name": "stdout",
          "text": [
            "0\n"
          ]
        },
        {
          "output_type": "execute_result",
          "data": {
            "text/plain": [
              "True"
            ]
          },
          "metadata": {},
          "execution_count": 2
        }
      ]
    },
    {
      "cell_type": "code",
      "source": [
        "a = 45\n",
        "print (a % 5)\n",
        "print (a % 9)\n",
        "((a % 5) ==0) and ((a % 9) ==0)\n",
        "((a % 5) ==0) or ((a % 9) ==0)"
      ],
      "metadata": {
        "colab": {
          "base_uri": "https://localhost:8080/"
        },
        "id": "a0jsWwUI5N92",
        "outputId": "540ca2a0-f973-4084-991c-c71c9e907506"
      },
      "execution_count": 4,
      "outputs": [
        {
          "output_type": "stream",
          "name": "stdout",
          "text": [
            "0\n",
            "0\n"
          ]
        },
        {
          "output_type": "execute_result",
          "data": {
            "text/plain": [
              "True"
            ]
          },
          "metadata": {},
          "execution_count": 4
        }
      ]
    },
    {
      "cell_type": "code",
      "source": [
        "a = 45\n",
        "print (a % 5)\n",
        "print (a % 9)\n",
        "((a % 5) ==0) or ((a % 9) ==0)"
      ],
      "metadata": {
        "colab": {
          "base_uri": "https://localhost:8080/"
        },
        "id": "j1OgM1ozVZuY",
        "outputId": "cd8e175b-d796-45c6-ecf9-66bfdfca031a"
      },
      "execution_count": 5,
      "outputs": [
        {
          "output_type": "stream",
          "name": "stdout",
          "text": [
            "0\n",
            "0\n"
          ]
        },
        {
          "output_type": "execute_result",
          "data": {
            "text/plain": [
              "True"
            ]
          },
          "metadata": {},
          "execution_count": 5
        }
      ]
    },
    {
      "cell_type": "code",
      "source": [
        "'''\n",
        "1. Python code to declare a string \"Cats come from tiger family\"\n",
        "\n",
        "a. check if Tiger is in sentence\n",
        "b. convet to upper case\n",
        "c. convert to lower case\n",
        "d. split at white spaces\n",
        "e. you have to check if cats and tiger are present in the sentence print True\n",
        "f. extract from position 5 to 9 with both negative and positive indexings\n",
        "g. use for loop to print characters in the string.\n",
        "h. length of the string\n",
        "'''"
      ],
      "metadata": {
        "id": "ybQ1TydpWMpg"
      },
      "execution_count": null,
      "outputs": []
    },
    {
      "cell_type": "code",
      "source": [
        "#a.\n",
        "x = \"Cats come from tiger family\"\n",
        "print(\"Tiger\" in x)"
      ],
      "metadata": {
        "colab": {
          "base_uri": "https://localhost:8080/"
        },
        "id": "4-5ATUrvW5ZT",
        "outputId": "2a6b78de-00eb-4802-d3bc-b1aa3a26ffcc"
      },
      "execution_count": 13,
      "outputs": [
        {
          "output_type": "stream",
          "name": "stdout",
          "text": [
            "False\n"
          ]
        }
      ]
    },
    {
      "cell_type": "code",
      "source": [
        "#b.\n",
        "x = \"Cats come from tiger family\"\n",
        "x.upper()\n"
      ],
      "metadata": {
        "colab": {
          "base_uri": "https://localhost:8080/",
          "height": 35
        },
        "id": "z2Gx8JuAXd2E",
        "outputId": "1e812c53-12dc-4061-ec08-ec2a9d8f2607"
      },
      "execution_count": 14,
      "outputs": [
        {
          "output_type": "execute_result",
          "data": {
            "text/plain": [
              "'CATS COME FROM TIGER FAMILY'"
            ],
            "application/vnd.google.colaboratory.intrinsic+json": {
              "type": "string"
            }
          },
          "metadata": {},
          "execution_count": 14
        }
      ]
    },
    {
      "cell_type": "code",
      "source": [
        "#c.\n",
        "x = \"Cats come from tiger family\"\n",
        "x.lower()"
      ],
      "metadata": {
        "colab": {
          "base_uri": "https://localhost:8080/",
          "height": 35
        },
        "id": "IulcPynlXlcE",
        "outputId": "dd0a8a84-3ea5-4c6e-d202-fc542cdf3616"
      },
      "execution_count": 15,
      "outputs": [
        {
          "output_type": "execute_result",
          "data": {
            "text/plain": [
              "'cats come from tiger family'"
            ],
            "application/vnd.google.colaboratory.intrinsic+json": {
              "type": "string"
            }
          },
          "metadata": {},
          "execution_count": 15
        }
      ]
    },
    {
      "cell_type": "code",
      "source": [
        "#d.\n",
        "x = \"Cats come from tiger family\"\n",
        "x.split(\" \")"
      ],
      "metadata": {
        "colab": {
          "base_uri": "https://localhost:8080/"
        },
        "id": "-QG_zdHEX8Xn",
        "outputId": "d389cbcf-7df0-4228-ea5c-e8633d79ef63"
      },
      "execution_count": 16,
      "outputs": [
        {
          "output_type": "execute_result",
          "data": {
            "text/plain": [
              "['Cats', 'come', 'from', 'tiger', 'family']"
            ]
          },
          "metadata": {},
          "execution_count": 16
        }
      ]
    },
    {
      "cell_type": "code",
      "source": [
        "#e.\n",
        "x = \"Cats come from tiger family\"\n",
        "\n",
        "if (\"cats\" in x) and (\"tiger\" in x):\n",
        "  print (True)\n",
        "else:\n",
        "  print (False)"
      ],
      "metadata": {
        "colab": {
          "base_uri": "https://localhost:8080/"
        },
        "id": "Kp6BMCIWYFGG",
        "outputId": "05eac08c-53ea-418b-beff-3d74fffdd4a6"
      },
      "execution_count": 22,
      "outputs": [
        {
          "output_type": "stream",
          "name": "stdout",
          "text": [
            "False\n"
          ]
        }
      ]
    },
    {
      "cell_type": "code",
      "source": [
        "#f.\n",
        "x = \"Cats come from tiger family\"\n",
        "x[5:10]"
      ],
      "metadata": {
        "colab": {
          "base_uri": "https://localhost:8080/",
          "height": 35
        },
        "id": "NDKxFBPvY_G2",
        "outputId": "8fcb0f5a-7d6d-4968-8b6d-86107014ff7d"
      },
      "execution_count": 23,
      "outputs": [
        {
          "output_type": "execute_result",
          "data": {
            "text/plain": [
              "'come '"
            ],
            "application/vnd.google.colaboratory.intrinsic+json": {
              "type": "string"
            }
          },
          "metadata": {},
          "execution_count": 23
        }
      ]
    },
    {
      "cell_type": "code",
      "source": [
        "x = \"Cats come from tiger family\"\n",
        "x[-22:-17]"
      ],
      "metadata": {
        "colab": {
          "base_uri": "https://localhost:8080/",
          "height": 35
        },
        "id": "ioWzmMZTaKOe",
        "outputId": "8f2c2811-df86-4440-f848-51535381b30b"
      },
      "execution_count": 25,
      "outputs": [
        {
          "output_type": "execute_result",
          "data": {
            "text/plain": [
              "'come '"
            ],
            "application/vnd.google.colaboratory.intrinsic+json": {
              "type": "string"
            }
          },
          "metadata": {},
          "execution_count": 25
        }
      ]
    },
    {
      "cell_type": "code",
      "source": [
        "#g.\n",
        "x = \"Cats come from tiger family\"\n",
        "for i in x:\n",
        "  print(i)"
      ],
      "metadata": {
        "colab": {
          "base_uri": "https://localhost:8080/"
        },
        "id": "DRJRNKE8axDJ",
        "outputId": "ae969014-ae99-4f82-c7c2-042cdaea9aaf"
      },
      "execution_count": 27,
      "outputs": [
        {
          "output_type": "stream",
          "name": "stdout",
          "text": [
            "C\n",
            "a\n",
            "t\n",
            "s\n",
            " \n",
            "c\n",
            "o\n",
            "m\n",
            "e\n",
            " \n",
            "f\n",
            "r\n",
            "o\n",
            "m\n",
            " \n",
            "t\n",
            "i\n",
            "g\n",
            "e\n",
            "r\n",
            " \n",
            "f\n",
            "a\n",
            "m\n",
            "i\n",
            "l\n",
            "y\n"
          ]
        }
      ]
    },
    {
      "cell_type": "code",
      "source": [
        "#h.\n",
        "x = \"Cats come from tiger family\"\n",
        "len(x)"
      ],
      "metadata": {
        "colab": {
          "base_uri": "https://localhost:8080/"
        },
        "id": "SsCOijfnbMfz",
        "outputId": "0e123799-b55c-4929-e2ee-34dfe7efec25"
      },
      "execution_count": 28,
      "outputs": [
        {
          "output_type": "execute_result",
          "data": {
            "text/plain": [
              "27"
            ]
          },
          "metadata": {},
          "execution_count": 28
        }
      ]
    },
    {
      "cell_type": "markdown",
      "source": [
        "##List"
      ],
      "metadata": {
        "id": "86VBH1mBjSEc"
      }
    },
    {
      "cell_type": "code",
      "source": [
        "'''\n",
        "Upto now variable was carrying a single value.\n",
        "\n",
        "So, what if we want to assign group of all possible values for variable at once, this datatype is called List.\n",
        "Always lists are in [] square bracket\n",
        "--> A List can be anything.\n",
        "--> A List can have only strings.\n",
        "--> A List can also have combination of strings, numbers, and boolean values as well.\n",
        "--> A List can have only numbers.\n",
        "--> A List can have only boolean.\n",
        "'''"
      ],
      "metadata": {
        "id": "FMdtsMrYbftA"
      },
      "execution_count": null,
      "outputs": []
    },
    {
      "cell_type": "code",
      "source": [
        "x = ['apples','Mangos','oranges']\n",
        "y = ['apples','Mangos',1,23,532,True,False]\n",
        "z = [1,34,54,234,657,976]\n",
        "w = [True,False,True]"
      ],
      "metadata": {
        "id": "vYlBl0XzmD85"
      },
      "execution_count": 2,
      "outputs": []
    },
    {
      "cell_type": "code",
      "source": [
        "type(x)"
      ],
      "metadata": {
        "colab": {
          "base_uri": "https://localhost:8080/"
        },
        "id": "X5O9Twr5mUaC",
        "outputId": "5d747830-e7cb-4fa4-d5fb-8d698063e9be"
      },
      "execution_count": 3,
      "outputs": [
        {
          "output_type": "execute_result",
          "data": {
            "text/plain": [
              "list"
            ]
          },
          "metadata": {},
          "execution_count": 3
        }
      ]
    },
    {
      "cell_type": "code",
      "source": [
        "print (x)"
      ],
      "metadata": {
        "colab": {
          "base_uri": "https://localhost:8080/"
        },
        "id": "jZsu2OPLmXAr",
        "outputId": "38e97905-99a8-4a2c-c8a7-431363ea9f08"
      },
      "execution_count": 4,
      "outputs": [
        {
          "output_type": "stream",
          "name": "stdout",
          "text": [
            "['apples', 'Mangos', 'oranges']\n"
          ]
        }
      ]
    },
    {
      "cell_type": "code",
      "source": [
        "len(x)"
      ],
      "metadata": {
        "colab": {
          "base_uri": "https://localhost:8080/"
        },
        "id": "sniJe3cJmz-3",
        "outputId": "2aede7a3-015e-4cc2-8437-c026366c8362"
      },
      "execution_count": 5,
      "outputs": [
        {
          "output_type": "execute_result",
          "data": {
            "text/plain": [
              "3"
            ]
          },
          "metadata": {},
          "execution_count": 5
        }
      ]
    },
    {
      "cell_type": "code",
      "source": [
        "x[0]"
      ],
      "metadata": {
        "colab": {
          "base_uri": "https://localhost:8080/",
          "height": 35
        },
        "id": "dhhsIBTWm1w8",
        "outputId": "57f21062-3994-4053-9fb7-84460ebad9bd"
      },
      "execution_count": 7,
      "outputs": [
        {
          "output_type": "execute_result",
          "data": {
            "text/plain": [
              "'apples'"
            ],
            "application/vnd.google.colaboratory.intrinsic+json": {
              "type": "string"
            }
          },
          "metadata": {},
          "execution_count": 7
        }
      ]
    },
    {
      "cell_type": "code",
      "source": [
        "x[2]"
      ],
      "metadata": {
        "colab": {
          "base_uri": "https://localhost:8080/",
          "height": 35
        },
        "id": "I7vlbqKSm3oJ",
        "outputId": "2f4b379b-264d-4c3f-cf2d-24c50b68ecf1"
      },
      "execution_count": 8,
      "outputs": [
        {
          "output_type": "execute_result",
          "data": {
            "text/plain": [
              "'oranges'"
            ],
            "application/vnd.google.colaboratory.intrinsic+json": {
              "type": "string"
            }
          },
          "metadata": {},
          "execution_count": 8
        }
      ]
    },
    {
      "cell_type": "code",
      "source": [
        "x[-1]"
      ],
      "metadata": {
        "colab": {
          "base_uri": "https://localhost:8080/",
          "height": 35
        },
        "id": "8-24o6_km93O",
        "outputId": "52e1945d-531a-4177-88e0-5878a59f2e93"
      },
      "execution_count": 9,
      "outputs": [
        {
          "output_type": "execute_result",
          "data": {
            "text/plain": [
              "'oranges'"
            ],
            "application/vnd.google.colaboratory.intrinsic+json": {
              "type": "string"
            }
          },
          "metadata": {},
          "execution_count": 9
        }
      ]
    },
    {
      "cell_type": "code",
      "source": [
        "'''\n",
        "Properties of a List:\n",
        "--> Lists are mutable - it means we can add or delete elements in the list\n",
        "--> Lists are always ordered - it means the order that we define in the list, the same order follows the entire sequence"
      ],
      "metadata": {
        "id": "As2JHhgenBbQ"
      },
      "execution_count": null,
      "outputs": []
    },
    {
      "cell_type": "code",
      "source": [
        "for i in x:\n",
        "  print(i)"
      ],
      "metadata": {
        "colab": {
          "base_uri": "https://localhost:8080/"
        },
        "id": "jJd8M--3o0_0",
        "outputId": "f7228abc-f016-4855-c1bb-e13b548c30c9"
      },
      "execution_count": 3,
      "outputs": [
        {
          "output_type": "stream",
          "name": "stdout",
          "text": [
            "apples\n",
            "Mangos\n",
            "oranges\n"
          ]
        }
      ]
    },
    {
      "cell_type": "code",
      "source": [
        "for i in range(0, len(x)):\n",
        "  print(x[i])"
      ],
      "metadata": {
        "colab": {
          "base_uri": "https://localhost:8080/"
        },
        "id": "uGgYWUfKo9NN",
        "outputId": "8c64567f-8e53-4543-961c-1e914a6ba705"
      },
      "execution_count": 4,
      "outputs": [
        {
          "output_type": "stream",
          "name": "stdout",
          "text": [
            "apples\n",
            "Mangos\n",
            "oranges\n"
          ]
        }
      ]
    },
    {
      "cell_type": "code",
      "source": [
        "b = [\"Mercury\", \"Venus\", \"Earth\", \"Mars\", \"Jupiter\", \"Saturn\", \"Uranus\", \"Neptune\"]"
      ],
      "metadata": {
        "id": "PZj2hS9sssBG"
      },
      "execution_count": 25,
      "outputs": []
    },
    {
      "cell_type": "code",
      "source": [
        "b.append(\"Pluto\")\n",
        "print(b) #.append is used to add elements to the list\n",
        "         #list.append() takes exactly one argument"
      ],
      "metadata": {
        "colab": {
          "base_uri": "https://localhost:8080/"
        },
        "id": "v-Gx0BK8qpdM",
        "outputId": "0254b63a-22ae-47a9-dabc-0cfcc9d1a4ba"
      },
      "execution_count": 26,
      "outputs": [
        {
          "output_type": "stream",
          "name": "stdout",
          "text": [
            "['Mercury', 'Venus', 'Earth', 'Mars', 'Jupiter', 'Saturn', 'Uranus', 'Neptune', 'Pluto']\n"
          ]
        }
      ]
    },
    {
      "cell_type": "code",
      "source": [
        "'''\n",
        "1. Write a python program to reverse a string \"canvas\"\n",
        "2. Write a python program to count vowels and Consonant in a string : \"Rome is city\"\n",
        "3. Write a python program to count number of letters in the string : \"Covid10 is affected\n",
        "   with SARS virus\"\n",
        "4. Write a python program to print count of numeric, upper, lower and special characters in the\n",
        "   string : \"@pyTh)nlobb!Y34\"\n",
        "'''"
      ],
      "metadata": {
        "id": "iayZ8guvci0k"
      },
      "execution_count": null,
      "outputs": []
    },
    {
      "cell_type": "code",
      "source": [
        "# 1. To reverse string\n",
        "x = \"Canvas\"\n",
        "print (x[::-1])"
      ],
      "metadata": {
        "colab": {
          "base_uri": "https://localhost:8080/"
        },
        "id": "p9xoTOWTcqaN",
        "outputId": "819bac2b-1bea-4985-d341-0423acfea25f"
      },
      "execution_count": 9,
      "outputs": [
        {
          "output_type": "stream",
          "name": "stdout",
          "text": [
            "savnaC\n"
          ]
        }
      ]
    },
    {
      "cell_type": "code",
      "source": [
        "# 2. To count vowels and consonants in a string\n",
        "\n",
        "a = \"Rome is city\"\n",
        "vowels = 0\n",
        "consonants = 0\n",
        "for i in range(0, len(a)):\n",
        "    if (a[i] !=\" \"):\n",
        "         if(a[i] == \"a\" or a[i] == \"e\" or a[i] == \"i\" or a[i] == \"o\" or a[i] == \"u\"\n",
        "            or a[i] == \"A\" or a[i] == \"E\" or a[i] == \"I\" or a[i] == \"O\" or a[i] == \"U\"):\n",
        "\n",
        "             vowels = vowels + 1\n",
        "         else:\n",
        "             consonants = consonants + 1\n",
        "\n",
        "print (\"Total vowels=\", vowels)\n",
        "print (\"Total consonants=\", consonants)\n"
      ],
      "metadata": {
        "colab": {
          "base_uri": "https://localhost:8080/"
        },
        "id": "tWxS8u5bc-q4",
        "outputId": "0f1e9aae-3d46-42ad-feaa-ffde48da296b"
      },
      "execution_count": 4,
      "outputs": [
        {
          "output_type": "stream",
          "name": "stdout",
          "text": [
            "Total vowels= 4\n",
            "Total consonants= 6\n"
          ]
        }
      ]
    },
    {
      "cell_type": "code",
      "source": [
        "# 3. To count number of letters in the string\n",
        "\n",
        "x = \"Covid10 is affected with SARS virus\"\n",
        "digits = 0\n",
        "letters = 0\n",
        "for i in range(0, len(x)):\n",
        "    if (x[i] !=\" \"):\n",
        "         if(x[i] == \"0\" or x[i] == \"1\" or x[i] == \"2\" or x[i] == \"3\" or x[i] == \"4\"\n",
        "            or x[i] == \"5\" or x[i] == \"6\" or x[i] == \"7\" or x[i] == \"8\" or x[i] == \"9\"):\n",
        "\n",
        "             digits = digits + 1\n",
        "         else:\n",
        "             letters = letters + 1\n",
        "\n",
        "print (\"Total digits=\", digits)\n",
        "print (\"Total letters=\", letters)"
      ],
      "metadata": {
        "colab": {
          "base_uri": "https://localhost:8080/"
        },
        "id": "v_iEoEiXztQW",
        "outputId": "befe3ab5-9d03-4c14-9456-1160dcb78854"
      },
      "execution_count": 17,
      "outputs": [
        {
          "output_type": "stream",
          "name": "stdout",
          "text": [
            "Total digits= 2\n",
            "Total letters= 28\n"
          ]
        }
      ]
    },
    {
      "cell_type": "code",
      "source": [
        "# 4. To print count of numeric, upper, lower and special characters in the string\n",
        "\n",
        "x = \"@pyTh)nlobb!Y34\"\n",
        "\n",
        "Numeric_Count = 0\n",
        "Upper_Count = 0\n",
        "Lower_Count = 0\n",
        "Special_Count = 0\n",
        "\n",
        "for characters in x:\n",
        "  if characters.islower():\n",
        "    Lower_Count = Lower_Count + 1\n",
        "  elif characters.isupper():\n",
        "    Upper_Count = Upper_Count + 1\n",
        "  elif characters.isnumeric():\n",
        "    Numeric_Count = Numeric_Count + 1\n",
        "  else:\n",
        "    Special_Count = Special_Count + 1\n",
        "\n",
        "print (\"Numeric_Count=\", Numeric_Count)\n",
        "print (\"Upper_Count =\", Upper_Count)\n",
        "print (\"Lower_Count =\", Lower_Count)\n",
        "print (\"Special_Count =\", Special_Count)"
      ],
      "metadata": {
        "colab": {
          "base_uri": "https://localhost:8080/"
        },
        "id": "aL7lfe5SDte9",
        "outputId": "62d96143-fb75-4722-ed8b-dffba51a3411"
      },
      "execution_count": 2,
      "outputs": [
        {
          "output_type": "stream",
          "name": "stdout",
          "text": [
            "Numeric_Count= 2\n",
            "Upper_Count = 2\n",
            "Lower_Count = 8\n",
            "Special_Count = 3\n"
          ]
        }
      ]
    },
    {
      "cell_type": "code",
      "source": [],
      "metadata": {
        "id": "GgOoWn33RuUt"
      },
      "execution_count": null,
      "outputs": []
    }
  ]
}