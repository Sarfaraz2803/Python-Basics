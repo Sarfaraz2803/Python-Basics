{
  "nbformat": 4,
  "nbformat_minor": 0,
  "metadata": {
    "colab": {
      "provenance": []
    },
    "kernelspec": {
      "name": "python3",
      "display_name": "Python 3"
    },
    "language_info": {
      "name": "python"
    }
  },
  "cells": [
    {
      "cell_type": "code",
      "execution_count": 6,
      "metadata": {
        "colab": {
          "base_uri": "https://localhost:8080/"
        },
        "id": "YKmiRifH9hkc",
        "outputId": "10dde6a7-3100-4638-b6b8-afb1e3ae4f9c"
      },
      "outputs": [
        {
          "output_type": "stream",
          "name": "stdout",
          "text": [
            "W\n",
            "e\n",
            "a\n",
            "t\n",
            "h\n",
            "e\n",
            "r\n"
          ]
        }
      ],
      "source": [
        "#for loop condition\n",
        "a = \"Weather\"\n",
        "\n",
        "for i in a: #Here this \"i\" will check the elements one by one in \"a\"\n",
        "  print(i) #This will print whatever the \"i\" have checked in \"a\" in vertical one by one\n",
        "           # This \"i\" shall be anything, we can write it as \"m\" or \"j\""
      ]
    },
    {
      "cell_type": "code",
      "source": [
        "x = \"Weather\"\n",
        "\n",
        "range(0,len(x))\n",
        ""
      ],
      "metadata": {
        "colab": {
          "base_uri": "https://localhost:8080/"
        },
        "id": "mlVVuCIC7LSG",
        "outputId": "1a1bbd87-73b5-4d0a-d3bc-544913b71ffb"
      },
      "execution_count": 9,
      "outputs": [
        {
          "output_type": "execute_result",
          "data": {
            "text/plain": [
              "range(0, 7)"
            ]
          },
          "metadata": {},
          "execution_count": 9
        }
      ]
    },
    {
      "cell_type": "code",
      "source": [
        "x = \"Weather\"\n",
        "\n",
        "for i in range(0,len(x)):\n",
        "  print (i)"
      ],
      "metadata": {
        "colab": {
          "base_uri": "https://localhost:8080/"
        },
        "id": "dS6NLrZ__Vkm",
        "outputId": "9f42f7bb-4688-459c-f88c-5329441a12be"
      },
      "execution_count": 13,
      "outputs": [
        {
          "output_type": "stream",
          "name": "stdout",
          "text": [
            "0\n",
            "1\n",
            "2\n",
            "3\n",
            "4\n",
            "5\n",
            "6\n"
          ]
        }
      ]
    },
    {
      "cell_type": "code",
      "source": [
        "# Using \"for loop\" and \"Indexing\" concept\n",
        "x = \"Weather\"\n",
        "\n",
        "for i in range(0,len(x)): #This will check the no.of elements, for Weather:[range(0, 7)]\n",
        "  print (i) #This will check the positions one by one and print the positions\n",
        "  print (x[i]) #This will check the elements one by one and print the elements\n",
        "  print (\"================\")"
      ],
      "metadata": {
        "colab": {
          "base_uri": "https://localhost:8080/"
        },
        "id": "LRGZRPZS_yU7",
        "outputId": "ef479c59-5143-468e-b14a-ccca814093ad"
      },
      "execution_count": 11,
      "outputs": [
        {
          "output_type": "stream",
          "name": "stdout",
          "text": [
            "0\n",
            "W\n",
            "================\n",
            "1\n",
            "e\n",
            "================\n",
            "2\n",
            "a\n",
            "================\n",
            "3\n",
            "t\n",
            "================\n",
            "4\n",
            "h\n",
            "================\n",
            "5\n",
            "e\n",
            "================\n",
            "6\n",
            "r\n",
            "================\n"
          ]
        }
      ]
    },
    {
      "cell_type": "code",
      "source": [
        "k = \"Engine\"\n",
        "\n",
        "for i in k:\n",
        "  print(i)"
      ],
      "metadata": {
        "colab": {
          "base_uri": "https://localhost:8080/"
        },
        "id": "HysmvZtMAWYA",
        "outputId": "1547dda3-33a1-4a52-b86c-e9949a445be8"
      },
      "execution_count": 15,
      "outputs": [
        {
          "output_type": "stream",
          "name": "stdout",
          "text": [
            "E\n",
            "n\n",
            "g\n",
            "i\n",
            "n\n",
            "e\n"
          ]
        }
      ]
    },
    {
      "cell_type": "code",
      "source": [
        "k = \"Engine\"\n",
        "\n",
        "for i in range(0,len(k)):\n",
        "  print(i)\n",
        "  print(k[i])\n",
        "  print(\"-----------\")"
      ],
      "metadata": {
        "colab": {
          "base_uri": "https://localhost:8080/"
        },
        "id": "jDxtGOTLDwhd",
        "outputId": "4c0822e6-559a-4a34-bd6b-71aa5988ef8e"
      },
      "execution_count": 17,
      "outputs": [
        {
          "output_type": "stream",
          "name": "stdout",
          "text": [
            "0\n",
            "E\n",
            "-----------\n",
            "1\n",
            "n\n",
            "-----------\n",
            "2\n",
            "g\n",
            "-----------\n",
            "3\n",
            "i\n",
            "-----------\n",
            "4\n",
            "n\n",
            "-----------\n",
            "5\n",
            "e\n",
            "-----------\n"
          ]
        }
      ]
    },
    {
      "cell_type": "code",
      "source": [
        "n = \"engineer\"\n",
        "for u in n:\n",
        "  print(u)"
      ],
      "metadata": {
        "colab": {
          "base_uri": "https://localhost:8080/"
        },
        "id": "nOMiXXp_EHF5",
        "outputId": "c2c43cfc-8b6b-4eac-b956-07d4fc9d5a90"
      },
      "execution_count": 21,
      "outputs": [
        {
          "output_type": "stream",
          "name": "stdout",
          "text": [
            "e\n",
            "n\n",
            "g\n",
            "i\n",
            "n\n",
            "e\n",
            "e\n",
            "r\n"
          ]
        }
      ]
    },
    {
      "cell_type": "code",
      "source": [
        "n = \"engineer\"\n",
        "for u in range(0,len(n)):\n",
        "  print(u)\n",
        "  print(n[u])\n",
        "  print(\"-----------------\")"
      ],
      "metadata": {
        "colab": {
          "base_uri": "https://localhost:8080/"
        },
        "id": "Ud4tb9j2Eqtp",
        "outputId": "b8dabd21-fd46-42d9-c3cd-1ca33d19a622"
      },
      "execution_count": 22,
      "outputs": [
        {
          "output_type": "stream",
          "name": "stdout",
          "text": [
            "0\n",
            "e\n",
            "-----------------\n",
            "1\n",
            "n\n",
            "-----------------\n",
            "2\n",
            "g\n",
            "-----------------\n",
            "3\n",
            "i\n",
            "-----------------\n",
            "4\n",
            "n\n",
            "-----------------\n",
            "5\n",
            "e\n",
            "-----------------\n",
            "6\n",
            "e\n",
            "-----------------\n",
            "7\n",
            "r\n",
            "-----------------\n"
          ]
        }
      ]
    },
    {
      "cell_type": "code",
      "source": [
        "#Checking the particular word is present or not\n",
        "\n",
        "x = \"Boat with 33 students going to school\"\n",
        "print(\"going\" in x)"
      ],
      "metadata": {
        "colab": {
          "base_uri": "https://localhost:8080/"
        },
        "id": "0BkTrB1BE2PW",
        "outputId": "ea28096c-01ba-45cf-fb1d-2593d874c7c9"
      },
      "execution_count": 4,
      "outputs": [
        {
          "output_type": "stream",
          "name": "stdout",
          "text": [
            "True\n"
          ]
        }
      ]
    },
    {
      "cell_type": "code",
      "source": [
        "x = \"Boat with 33 students going to school\"\n",
        "print(\"going\"not in x)"
      ],
      "metadata": {
        "colab": {
          "base_uri": "https://localhost:8080/"
        },
        "id": "i0sCJz7HGCHk",
        "outputId": "b735a08b-98fc-4bd6-9f3c-adb074a2d9a2"
      },
      "execution_count": 5,
      "outputs": [
        {
          "output_type": "stream",
          "name": "stdout",
          "text": [
            "False\n"
          ]
        }
      ]
    },
    {
      "cell_type": "code",
      "source": [
        "#if india is present in the string, I want to print present else absent\n",
        "\n",
        "#if condition\n",
        "m = \"Capital of India is Delhi\"\n",
        "\n",
        "if \"India\" in m: #executes only if it is true\n",
        "  print(\"present\")\n",
        "else:\n",
        "  print(\"absent\")"
      ],
      "metadata": {
        "colab": {
          "base_uri": "https://localhost:8080/"
        },
        "id": "Ku7JVKAmGa6d",
        "outputId": "f764b581-1d52-497a-841a-efc95eeed74f"
      },
      "execution_count": 6,
      "outputs": [
        {
          "output_type": "stream",
          "name": "stdout",
          "text": [
            "present\n"
          ]
        }
      ]
    },
    {
      "cell_type": "code",
      "source": [
        "if (\"minister\" in m):\n",
        "  print(\"Present\")\n",
        "else:\n",
        "  print(\"Absent\")"
      ],
      "metadata": {
        "colab": {
          "base_uri": "https://localhost:8080/"
        },
        "id": "wjVkOCm0G1SS",
        "outputId": "85d86b6c-32b3-4b57-dde0-b34160873ad0"
      },
      "execution_count": 9,
      "outputs": [
        {
          "output_type": "stream",
          "name": "stdout",
          "text": [
            "Absent\n"
          ]
        }
      ]
    },
    {
      "cell_type": "code",
      "source": [
        "if (\"India\" not in m):\n",
        "  print(\"Present\")\n",
        "else:\n",
        "  print(\"Absent\")"
      ],
      "metadata": {
        "colab": {
          "base_uri": "https://localhost:8080/"
        },
        "id": "KlVVz-dxHLiS",
        "outputId": "96696444-08c6-4d49-a811-89f8143396c7"
      },
      "execution_count": 10,
      "outputs": [
        {
          "output_type": "stream",
          "name": "stdout",
          "text": [
            "Absent\n"
          ]
        }
      ]
    },
    {
      "cell_type": "code",
      "source": [],
      "metadata": {
        "id": "M1o8sV96HvKE"
      },
      "execution_count": null,
      "outputs": []
    }
  ]
}