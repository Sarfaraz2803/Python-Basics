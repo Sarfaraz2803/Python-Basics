{
  "nbformat": 4,
  "nbformat_minor": 0,
  "metadata": {
    "colab": {
      "provenance": []
    },
    "kernelspec": {
      "name": "python3",
      "display_name": "Python 3"
    },
    "language_info": {
      "name": "python"
    }
  },
  "cells": [
    {
      "cell_type": "markdown",
      "source": [
        "##Dictionaries"
      ],
      "metadata": {
        "id": "l-S0z3XXdq6v"
      }
    },
    {
      "cell_type": "code",
      "execution_count": null,
      "metadata": {
        "id": "ICN3Ya6xdfdW"
      },
      "outputs": [],
      "source": [
        "'''\n",
        "---> Dictionaries are always needs to be put in curly or flower bracket.\n",
        "---> Dictionaries follows a particular format. So, that format is called as key and value pairs (key : value).\n",
        "     key and value pair are separated by colon. And every key and value pairs are separated by commas.\n",
        "---> It's a combination of key and value pairs are called Dictionaries.\n",
        "---> To access the values in the dictionary, we need to use keys.\n",
        "'''"
      ]
    },
    {
      "cell_type": "code",
      "source": [
        "thisdict = {\"brand\" : \"Ford\",\"model\" : \"Mustang\",\"year\" : 1964}\n",
        "print  (thisdict)"
      ],
      "metadata": {
        "colab": {
          "base_uri": "https://localhost:8080/"
        },
        "id": "HMSQrEmUiBWV",
        "outputId": "1783e30f-500b-486f-87db-a5b7949b78e6"
      },
      "execution_count": 1,
      "outputs": [
        {
          "output_type": "stream",
          "name": "stdout",
          "text": [
            "{'brand': 'Ford', 'model': 'Mustang', 'year': 1964}\n"
          ]
        }
      ]
    },
    {
      "cell_type": "code",
      "source": [
        "#To extract the value\n",
        "thisdict = {\"brand\" : \"Ford\",\"model\" : \"Mustang\",\"year\" : 1964}\n",
        "thisdict [\"model\"]"
      ],
      "metadata": {
        "colab": {
          "base_uri": "https://localhost:8080/",
          "height": 35
        },
        "id": "TuOjJwfzibda",
        "outputId": "6455928c-5614-49c0-af5b-8a5f0d233a36"
      },
      "execution_count": null,
      "outputs": [
        {
          "output_type": "execute_result",
          "data": {
            "text/plain": [
              "'Mustang'"
            ],
            "application/vnd.google.colaboratory.intrinsic+json": {
              "type": "string"
            }
          },
          "metadata": {},
          "execution_count": 2
        }
      ]
    },
    {
      "cell_type": "code",
      "source": [
        "thisdict = {\"brand\" : \"Ford\",\"model\" : \"Mustang\",\"year\" : 1964}\n",
        "thisdict [\"year\"]"
      ],
      "metadata": {
        "colab": {
          "base_uri": "https://localhost:8080/"
        },
        "id": "2vrzmKw0iy5f",
        "outputId": "851bef85-059c-4bb4-ac2f-eb94499d5108"
      },
      "execution_count": null,
      "outputs": [
        {
          "output_type": "execute_result",
          "data": {
            "text/plain": [
              "1964"
            ]
          },
          "metadata": {},
          "execution_count": 3
        }
      ]
    },
    {
      "cell_type": "code",
      "source": [
        "thisdict = {\"brand\" : \"Ford\",\"model\" : \"Mustang\",\"year\" : 1964}\n",
        "len(thisdict)"
      ],
      "metadata": {
        "colab": {
          "base_uri": "https://localhost:8080/"
        },
        "id": "4galr5A6i2hE",
        "outputId": "4b86fc35-173a-4e71-8b25-a04bf9b955c2"
      },
      "execution_count": null,
      "outputs": [
        {
          "output_type": "execute_result",
          "data": {
            "text/plain": [
              "3"
            ]
          },
          "metadata": {},
          "execution_count": 4
        }
      ]
    },
    {
      "cell_type": "code",
      "source": [
        "thisdict = {\n",
        "    \"brand\" : \"Ford\",     #Keys should be string and unique\n",
        "    \"electric\" : False,\n",
        "    \"year\" : 1964,\n",
        "    \"colours\" : [\"red\", \"white\", \"blue\"]\n",
        "}\n",
        "print(thisdict)"
      ],
      "metadata": {
        "colab": {
          "base_uri": "https://localhost:8080/"
        },
        "id": "4EG6qtPdjFok",
        "outputId": "bfce6384-3761-4f6a-cd34-6cfae81e2e7f"
      },
      "execution_count": null,
      "outputs": [
        {
          "output_type": "stream",
          "name": "stdout",
          "text": [
            "{'brand': 'Ford', 'electric': False, 'year': 1964, 'colours': ['red', 'white', 'blue']}\n"
          ]
        }
      ]
    },
    {
      "cell_type": "code",
      "source": [
        "# To get the lists of keys\n",
        "thisdict = {\n",
        "    \"brand\" : \"Ford\",     #Keys should be string and unique\n",
        "    \"electric\" : False,\n",
        "    \"year\" : 1964,\n",
        "    \"colours\" : [\"red\", \"white\", \"blue\"]\n",
        "}\n",
        "thisdict.keys()"
      ],
      "metadata": {
        "colab": {
          "base_uri": "https://localhost:8080/"
        },
        "id": "dKNoyqrkkeIh",
        "outputId": "30f000b0-7a81-49b8-a7c9-83a64bd5456a"
      },
      "execution_count": null,
      "outputs": [
        {
          "output_type": "execute_result",
          "data": {
            "text/plain": [
              "dict_keys(['brand', 'electric', 'year', 'colours'])"
            ]
          },
          "metadata": {},
          "execution_count": 10
        }
      ]
    },
    {
      "cell_type": "code",
      "source": [
        "# To add new key to the dictionary\n",
        "\n",
        "thisdict[\"sales\"] = 2000\n",
        "print (thisdict)"
      ],
      "metadata": {
        "colab": {
          "base_uri": "https://localhost:8080/"
        },
        "id": "0QaOwOcGlJ8H",
        "outputId": "15fd98cf-8f1c-4964-93f8-abea90e9774b"
      },
      "execution_count": null,
      "outputs": [
        {
          "output_type": "stream",
          "name": "stdout",
          "text": [
            "{'brand': 'Ford', 'electric': False, 'year': 1964, 'colours': ['red', 'white', 'blue'], 'sales': 2000}\n"
          ]
        }
      ]
    },
    {
      "cell_type": "code",
      "source": [
        "# To get the lists of values\n",
        "\n",
        "thisdict.values()"
      ],
      "metadata": {
        "colab": {
          "base_uri": "https://localhost:8080/"
        },
        "id": "bofQgY4qlk5h",
        "outputId": "1a6aea6a-e935-42fa-c76b-b0e241722bb3"
      },
      "execution_count": null,
      "outputs": [
        {
          "output_type": "execute_result",
          "data": {
            "text/plain": [
              "dict_values(['Ford', False, 1964, ['red', 'white', 'blue'], 2000])"
            ]
          },
          "metadata": {},
          "execution_count": 14
        }
      ]
    },
    {
      "cell_type": "code",
      "source": [
        "thisdict.items()  # It will return list of tuples where each tuple will have the first element as key and the next element as value"
      ],
      "metadata": {
        "colab": {
          "base_uri": "https://localhost:8080/"
        },
        "id": "uOpUsO5Flxax",
        "outputId": "d227a637-f409-48c0-a806-eb9294df1537"
      },
      "execution_count": null,
      "outputs": [
        {
          "output_type": "execute_result",
          "data": {
            "text/plain": [
              "dict_items([('brand', 'Ford'), ('electric', False), ('year', 1964), ('colours', ['red', 'white', 'blue']), ('sales', 2000)])"
            ]
          },
          "metadata": {},
          "execution_count": 15
        }
      ]
    },
    {
      "cell_type": "code",
      "source": [
        " # To check particular key is present or not\n",
        "thisdict = {\n",
        "    \"brand\" : \"Ford\",\n",
        "    \"electric\" : False,\n",
        "    \"year\" : 1964,\n",
        "    \"colours\" : [\"red\", \"white\", \"blue\"]\n",
        "}\n",
        " \"sales\" in thisdict # This checks only if there is matching key"
      ],
      "metadata": {
        "colab": {
          "base_uri": "https://localhost:8080/"
        },
        "id": "5erNZm-lm0R0",
        "outputId": "7e77e8d8-4b3d-4c6e-bbcc-525b56cce912"
      },
      "execution_count": null,
      "outputs": [
        {
          "output_type": "execute_result",
          "data": {
            "text/plain": [
              "False"
            ]
          },
          "metadata": {},
          "execution_count": 2
        }
      ]
    },
    {
      "cell_type": "code",
      "source": [
        "\n",
        "False in thisdict"
      ],
      "metadata": {
        "colab": {
          "base_uri": "https://localhost:8080/"
        },
        "id": "MCLvTJBiqzlW",
        "outputId": "c90b03ba-dea5-4677-d717-b3ce780e5490"
      },
      "execution_count": null,
      "outputs": [
        {
          "output_type": "execute_result",
          "data": {
            "text/plain": [
              "False"
            ]
          },
          "metadata": {},
          "execution_count": 3
        }
      ]
    },
    {
      "cell_type": "code",
      "source": [
        "# To check particular value is present or not\n",
        "thisdict = {\n",
        "    \"brand\" : \"Ford\",\n",
        "    \"electric\" : False,\n",
        "    \"year\" : 1964,\n",
        "    \"colours\" : [\"red\", \"white\", \"blue\"]\n",
        "}\n",
        "False in thisdict.values()"
      ],
      "metadata": {
        "colab": {
          "base_uri": "https://localhost:8080/"
        },
        "id": "-Qk0JwCGq9Ak",
        "outputId": "60087a7c-388d-4fbb-b326-c24e183099c9"
      },
      "execution_count": null,
      "outputs": [
        {
          "output_type": "execute_result",
          "data": {
            "text/plain": [
              "True"
            ]
          },
          "metadata": {},
          "execution_count": 4
        }
      ]
    },
    {
      "cell_type": "code",
      "source": [
        "thisdict = {\n",
        "    \"brand\" : \"Ford\",\n",
        "    \"electric\" : False,\n",
        "    \"year\" : 1964,\n",
        "    \"colours\" : [\"red\", \"white\", \"blue\"]\n",
        "}\n",
        "\n",
        "thisdict[\"year\"] = 2023\n",
        "print(thisdict)"
      ],
      "metadata": {
        "colab": {
          "base_uri": "https://localhost:8080/"
        },
        "id": "9watwHmBrlj4",
        "outputId": "ef6284e9-41b4-4ed0-e872-08d7a096eb31"
      },
      "execution_count": null,
      "outputs": [
        {
          "output_type": "stream",
          "name": "stdout",
          "text": [
            "{'brand': 'Ford', 'electric': False, 'year': 2023, 'colours': ['red', 'white', 'blue']}\n"
          ]
        }
      ]
    },
    {
      "cell_type": "code",
      "source": [
        "#To remove\n",
        "thisdict = {\n",
        "    \"brand\" : \"Ford\",\n",
        "    \"electric\" : False,\n",
        "    \"year\" : 1964,\n",
        "    \"colours\" : [\"red\", \"white\", \"blue\"]\n",
        "}\n",
        "\n",
        "thisdict.pop(\"year\")  # pop is used to remove keys from the dictionaries\n",
        "print(thisdict)"
      ],
      "metadata": {
        "colab": {
          "base_uri": "https://localhost:8080/"
        },
        "id": "FPdsC_IusZMg",
        "outputId": "b870502f-1289-4b8c-e34d-0d850ba8aaa2"
      },
      "execution_count": null,
      "outputs": [
        {
          "output_type": "stream",
          "name": "stdout",
          "text": [
            "{'brand': 'Ford', 'electric': False, 'colours': ['red', 'white', 'blue']}\n"
          ]
        }
      ]
    },
    {
      "cell_type": "code",
      "source": [
        "thisdict = {\n",
        "    \"brand\" : \"Ford\",\n",
        "    \"electric\" : False,\n",
        "    \"year\" : 1964,\n",
        "    \"colours\" : [\"red\", \"white\", \"blue\"]\n",
        "}\n",
        "\n",
        "for i in thisdict:\n",
        "  print(i)"
      ],
      "metadata": {
        "colab": {
          "base_uri": "https://localhost:8080/"
        },
        "id": "D0gaPcbFsoxO",
        "outputId": "a3229ca6-71a0-44dd-8119-8177c7000757"
      },
      "execution_count": null,
      "outputs": [
        {
          "output_type": "stream",
          "name": "stdout",
          "text": [
            "brand\n",
            "electric\n",
            "year\n",
            "colours\n"
          ]
        }
      ]
    },
    {
      "cell_type": "code",
      "source": [
        "thisdict = {\n",
        "    \"brand\" : \"Ford\",\n",
        "    \"electric\" : False,\n",
        "    \"year\" : 1964,\n",
        "    \"colours\" : [\"red\", \"white\", \"blue\"]\n",
        "}\n",
        "\n",
        "for i in thisdict:\n",
        "  print(thisdict[i])"
      ],
      "metadata": {
        "colab": {
          "base_uri": "https://localhost:8080/"
        },
        "id": "qfg-vDsntKnn",
        "outputId": "4b6fc8c7-b7a9-409e-f700-484fb348c6bc"
      },
      "execution_count": null,
      "outputs": [
        {
          "output_type": "stream",
          "name": "stdout",
          "text": [
            "Ford\n",
            "False\n",
            "1964\n",
            "['red', 'white', 'blue']\n"
          ]
        }
      ]
    },
    {
      "cell_type": "code",
      "source": [
        "for i in thisdict.values():\n",
        "  print(i)\n"
      ],
      "metadata": {
        "colab": {
          "base_uri": "https://localhost:8080/"
        },
        "id": "M_mf3NnctZ86",
        "outputId": "736baac6-09c0-4c15-951f-1558d6285048"
      },
      "execution_count": null,
      "outputs": [
        {
          "output_type": "stream",
          "name": "stdout",
          "text": [
            "Ford\n",
            "False\n",
            "1964\n",
            "['red', 'white', 'blue']\n"
          ]
        }
      ]
    },
    {
      "cell_type": "code",
      "source": [
        "for i in thisdict.keys():\n",
        "  print(i)"
      ],
      "metadata": {
        "colab": {
          "base_uri": "https://localhost:8080/"
        },
        "id": "7rvQVAmUvRp-",
        "outputId": "d1316b0a-cadd-4714-8130-88fb56e715a1"
      },
      "execution_count": null,
      "outputs": [
        {
          "output_type": "stream",
          "name": "stdout",
          "text": [
            "brand\n",
            "electric\n",
            "year\n",
            "colours\n"
          ]
        }
      ]
    },
    {
      "cell_type": "code",
      "source": [
        "#To get keys and values\n",
        "for i,j in thisdict.items():\n",
        "  print (f'key : {i}')\n",
        "  print (f'value : {j}')"
      ],
      "metadata": {
        "colab": {
          "base_uri": "https://localhost:8080/"
        },
        "id": "hsAUVGFvvjUe",
        "outputId": "da587acf-22d7-49ea-8510-247ad1315cc0"
      },
      "execution_count": null,
      "outputs": [
        {
          "output_type": "stream",
          "name": "stdout",
          "text": [
            "key : brand\n",
            "value : Ford\n",
            "key : electric\n",
            "value : False\n",
            "key : year\n",
            "value : 1964\n",
            "key : colours\n",
            "value : ['red', 'white', 'blue']\n"
          ]
        }
      ]
    },
    {
      "cell_type": "code",
      "source": [
        "## Nested Dictionaries (means there is dictionary inside dictionary)\n",
        "myfamily = {\"child1\" :{\"name\" : \"Emil\",\"year\" : 2004},\n",
        "            \"child2\" :{\"name\" : \"Tobias\",\"year\" : 2007},\n",
        "            \"child3\" :{\"name\" : \"Linus\",\"year\" : 2011}}"
      ],
      "metadata": {
        "id": "I2EOeEKlv9Y0"
      },
      "execution_count": null,
      "outputs": []
    },
    {
      "cell_type": "code",
      "source": [
        "'''\n",
        "Write a python script to sort (ascending and descending) a dictionary bby a value\n",
        "{1: 2, 3: 4, 4: 3, 2: 1, 0: 0}\n",
        "'''"
      ],
      "metadata": {
        "id": "mm1n8vySJJjD"
      },
      "execution_count": null,
      "outputs": []
    },
    {
      "cell_type": "code",
      "source": [
        "'''\n",
        "Write a python program to add a key to dictionary\n",
        "dictionary = {\"Name\" : \"Ram\" , \"Age\" : 23}\n",
        "add_key = {\"City\" : \"Salem\"}\n",
        "'''\n",
        "d1 = {\"Name\" : \"Ram\" , \"Age\" : 23}\n",
        "d2 = {\"City\" : \"Salem\"}\n",
        "key =list(d2.keys())\n",
        "value =list(d2.values())\n",
        "print(key)\n",
        "print(value)\n",
        "d1[key[0]] = value[0]\n",
        "print(d1)"
      ],
      "metadata": {
        "colab": {
          "base_uri": "https://localhost:8080/"
        },
        "id": "4Kd-pINuJlLe",
        "outputId": "3d928461-ed9d-47b2-e986-8994b1a42ab9"
      },
      "execution_count": null,
      "outputs": [
        {
          "output_type": "stream",
          "name": "stdout",
          "text": [
            "['City']\n",
            "['Salem']\n",
            "{'Name': 'Ram', 'Age': 23, 'City': 'Salem'}\n"
          ]
        }
      ]
    }
  ]
}