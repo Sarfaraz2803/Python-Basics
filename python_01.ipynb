{
  "nbformat": 4,
  "nbformat_minor": 0,
  "metadata": {
    "colab": {
      "provenance": []
    },
    "kernelspec": {
      "name": "python3",
      "display_name": "Python 3"
    },
    "language_info": {
      "name": "python"
    }
  },
  "cells": [
    {
      "cell_type": "markdown",
      "source": [
        "##Introduction"
      ],
      "metadata": {
        "id": "RWqj3naIptwy"
      }
    },
    {
      "cell_type": "markdown",
      "source": [
        "###If we increase the no.of hastags then the font size will decrease and vice versa"
      ],
      "metadata": {
        "id": "GbEU26S3bbW5"
      }
    },
    {
      "cell_type": "code",
      "source": [
        "# This is Comment\n",
        "# There are two types of comments in python\n",
        "#    1. Single Line Comment\n",
        "#    2. Multi Line Comment"
      ],
      "metadata": {
        "id": "cE8jXbYsY2TP"
      },
      "execution_count": 1,
      "outputs": []
    },
    {
      "cell_type": "code",
      "source": [
        "# To Print something in Python\n",
        "\n",
        "'''\n",
        "This is a python print function\n",
        "Print is a keyword in python\n",
        "print should have\n",
        "'''\n",
        "\n",
        "\n",
        "\n",
        "print (\"Course\")\n",
        "print (\"Hello World\")\n",
        "\n",
        "print ('Hello World')"
      ],
      "metadata": {
        "colab": {
          "base_uri": "https://localhost:8080/"
        },
        "id": "YYyI-qucpkyV",
        "outputId": "099253b6-15dd-4e50-c1a3-37b2f0eb6dd6"
      },
      "execution_count": 4,
      "outputs": [
        {
          "output_type": "stream",
          "name": "stdout",
          "text": [
            "Course\n",
            "Hello World\n"
          ]
        }
      ]
    },
    {
      "cell_type": "code",
      "source": [
        "# Variable means that tends to change\n",
        "a = 3 #means that assigning a value 3 to variable \"a\"\n",
        "Name = \"Brand\"\n",
        "Age = 32\n",
        "print (Name)\n",
        "print (Age)"
      ],
      "metadata": {
        "colab": {
          "base_uri": "https://localhost:8080/"
        },
        "id": "XG9w6sKIqFSJ",
        "outputId": "7752a268-1e8c-4c55-f9d6-cf3a902345d3"
      },
      "execution_count": 23,
      "outputs": [
        {
          "output_type": "stream",
          "name": "stdout",
          "text": [
            "Brand\n",
            "32\n"
          ]
        }
      ]
    },
    {
      "cell_type": "code",
      "source": [
        "Tata_Steel = 32300\n",
        "Adani_Enterprises = 18226\n",
        "Bharti_Airtel = 79800\n",
        "\n",
        "print (f\"The Capex Plans in FY23 and FY24 of Tata Steel is {Tata_Steel}; Adani Enterprises is {Adani_Enterprises} and Bharti Airtel is {Bharti_Airtel}\")"
      ],
      "metadata": {
        "colab": {
          "base_uri": "https://localhost:8080/"
        },
        "id": "1ouy3DkRvbmZ",
        "outputId": "440b2a7d-8ea0-4217-8542-d5fc92e03b36"
      },
      "execution_count": 15,
      "outputs": [
        {
          "output_type": "stream",
          "name": "stdout",
          "text": [
            "The Capex Plans in FY23 and FY24 of Tata Steel is (32, 300); Adani Enterprises is (18, 226) and Bharti Airtel is (79, 800)\n"
          ]
        }
      ]
    },
    {
      "cell_type": "code",
      "source": [
        "# Here \"f\" is f-string and it lets us use palceholder expressions to display strings"
      ],
      "metadata": {
        "id": "I6kYKL443Yc6"
      },
      "execution_count": null,
      "outputs": []
    },
    {
      "cell_type": "code",
      "source": [
        "Tata_Steel = 32300\n",
        "Adani_Enterprises = 18226\n",
        "Bharti_Airtel = 79800\n",
        "\n",
        "print (f\"The Capex Plans in FY23 and FY24 of Tata Steel is {Tata_Steel}; Adani Enterprises is {Adani_Enterprises} and Bharti Airtel is {Bharti_Airtel}\")"
      ],
      "metadata": {
        "colab": {
          "base_uri": "https://localhost:8080/"
        },
        "id": "iu44tV52yScL",
        "outputId": "16e884f4-ef92-4231-8303-4bf6938e562b"
      },
      "execution_count": 17,
      "outputs": [
        {
          "output_type": "stream",
          "name": "stdout",
          "text": [
            "The Capex Plans in FY23 and FY24 of Tata Steel is 32300; Adani Enterprises is 18226 and Bharti Airtel is 79800\n"
          ]
        }
      ]
    },
    {
      "cell_type": "code",
      "source": [
        "# If we want to print x,y,z same values\n",
        "\n",
        "x = y = z = \"Brand\"\n",
        "\n",
        "print(x)\n",
        "print(y)\n",
        "print(z)"
      ],
      "metadata": {
        "colab": {
          "base_uri": "https://localhost:8080/"
        },
        "id": "Wsuyzlmo54a_",
        "outputId": "e562e349-8502-4a1d-ecd0-6f7c08aa8bb3"
      },
      "execution_count": 24,
      "outputs": [
        {
          "output_type": "stream",
          "name": "stdout",
          "text": [
            "Brand\n",
            "Brand\n",
            "Brand\n"
          ]
        }
      ]
    },
    {
      "cell_type": "code",
      "source": [],
      "metadata": {
        "id": "TB_CWaVO-15k"
      },
      "execution_count": null,
      "outputs": []
    }
  ]
}