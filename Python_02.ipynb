{
  "nbformat": 4,
  "nbformat_minor": 0,
  "metadata": {
    "colab": {
      "provenance": []
    },
    "kernelspec": {
      "name": "python3",
      "display_name": "Python 3"
    },
    "language_info": {
      "name": "python"
    }
  },
  "cells": [
    {
      "cell_type": "code",
      "execution_count": 1,
      "metadata": {
        "colab": {
          "base_uri": "https://localhost:8080/"
        },
        "id": "pYxDiVLp5LtW",
        "outputId": "7a32297d-16cf-4c74-dbb5-dc30f93e3cc6"
      },
      "outputs": [
        {
          "output_type": "stream",
          "name": "stdout",
          "text": [
            "Mobile Skin Printing\n"
          ]
        }
      ],
      "source": [
        "x = \"Mobile Skin Printing\"\n",
        "print (x)"
      ]
    },
    {
      "cell_type": "code",
      "source": [
        "x = \"Mobile\"\n",
        "y = \"Skin\"\n",
        "z = \"Printing\"\n",
        "\n",
        "print (x,y,z)"
      ],
      "metadata": {
        "colab": {
          "base_uri": "https://localhost:8080/"
        },
        "id": "16amBH6h6DeG",
        "outputId": "6a505b79-ff06-4568-94c2-8448e7ca1de3"
      },
      "execution_count": 2,
      "outputs": [
        {
          "output_type": "stream",
          "name": "stdout",
          "text": [
            "Mobile Skin Printing\n"
          ]
        }
      ]
    },
    {
      "cell_type": "code",
      "source": [
        "print (x+y+z) # Here we will get output without space between words"
      ],
      "metadata": {
        "colab": {
          "base_uri": "https://localhost:8080/"
        },
        "id": "ort18fgU6ZiL",
        "outputId": "cdeceb13-c31d-4452-a90c-626dec8cf16a"
      },
      "execution_count": 4,
      "outputs": [
        {
          "output_type": "stream",
          "name": "stdout",
          "text": [
            "MobileSkinPrinting\n"
          ]
        }
      ]
    },
    {
      "cell_type": "code",
      "source": [
        "print (x+' '+y+' '+z+' ') # here, this is other way to get output with space between the words"
      ],
      "metadata": {
        "colab": {
          "base_uri": "https://localhost:8080/"
        },
        "id": "xFNQAvAk6rCy",
        "outputId": "06876e51-955a-4ad3-d7f4-b84296596edf"
      },
      "execution_count": 6,
      "outputs": [
        {
          "output_type": "stream",
          "name": "stdout",
          "text": [
            "Mobile Skin Printing \n"
          ]
        }
      ]
    },
    {
      "cell_type": "code",
      "source": [
        "x = 25\n",
        "y = 30\n",
        "\n",
        "print (x+y)\n",
        "print (x-y)\n",
        "print (x*y)\n",
        "print (x/y)\n"
      ],
      "metadata": {
        "colab": {
          "base_uri": "https://localhost:8080/"
        },
        "id": "ZyY_4vYM7GQF",
        "outputId": "43982b5c-5b50-456a-bffc-8953b465f5b0"
      },
      "execution_count": 7,
      "outputs": [
        {
          "output_type": "stream",
          "name": "stdout",
          "text": [
            "55\n",
            "-5\n",
            "750\n",
            "0.8333333333333334\n"
          ]
        }
      ]
    },
    {
      "cell_type": "code",
      "source": [
        "x = 10\n",
        "y = \"Brand\"\n",
        "\n",
        "print (x+y)  #Here it is invalid because there is integer and string. We cannot add integer and string"
      ],
      "metadata": {
        "colab": {
          "base_uri": "https://localhost:8080/",
          "height": 210
        },
        "id": "MdPSnBYO7ujb",
        "outputId": "59ebb768-0d5b-4c46-b242-5867f075eceb"
      },
      "execution_count": 8,
      "outputs": [
        {
          "output_type": "error",
          "ename": "TypeError",
          "evalue": "ignored",
          "traceback": [
            "\u001b[0;31m---------------------------------------------------------------------------\u001b[0m",
            "\u001b[0;31mTypeError\u001b[0m                                 Traceback (most recent call last)",
            "\u001b[0;32m<ipython-input-8-d41c3562816b>\u001b[0m in \u001b[0;36m<cell line: 4>\u001b[0;34m()\u001b[0m\n\u001b[1;32m      2\u001b[0m \u001b[0my\u001b[0m \u001b[0;34m=\u001b[0m \u001b[0;34m\"Brand\"\u001b[0m\u001b[0;34m\u001b[0m\u001b[0;34m\u001b[0m\u001b[0m\n\u001b[1;32m      3\u001b[0m \u001b[0;34m\u001b[0m\u001b[0m\n\u001b[0;32m----> 4\u001b[0;31m \u001b[0mprint\u001b[0m \u001b[0;34m(\u001b[0m\u001b[0mx\u001b[0m\u001b[0;34m+\u001b[0m\u001b[0my\u001b[0m\u001b[0;34m)\u001b[0m\u001b[0;34m\u001b[0m\u001b[0;34m\u001b[0m\u001b[0m\n\u001b[0m",
            "\u001b[0;31mTypeError\u001b[0m: unsupported operand type(s) for +: 'int' and 'str'"
          ]
        }
      ]
    },
    {
      "cell_type": "code",
      "source": [
        "'''\n",
        "1. Scope of a variable\n",
        "2. Local Scope of a variable\n",
        "\n",
        "'''\n",
        "\n",
        "\n",
        "# Functions : functions always start with a keyword called def. After def we have to place name of method(name can be anything)\n",
        "\n",
        "def summation(a,b):  #Here a,b are called as Arguments\n",
        "  sum = a+b #.. here space of two dots is called as indentation( Indentation means it tells that whatever is under this function comes under this function(under def summation:))\n",
        "  return sum  #return is a keyword that sends the output back\n",
        "\n",
        "\n",
        "summation(5,6)"
      ],
      "metadata": {
        "colab": {
          "base_uri": "https://localhost:8080/"
        },
        "id": "8dsTBwHP8BXg",
        "outputId": "3951269c-7f18-4097-e3eb-ba5d7b953806"
      },
      "execution_count": 9,
      "outputs": [
        {
          "output_type": "execute_result",
          "data": {
            "text/plain": [
              "11"
            ]
          },
          "metadata": {},
          "execution_count": 9
        }
      ]
    },
    {
      "cell_type": "code",
      "source": [
        "def multiplication(x,y):\n",
        "  product = x*y\n",
        "  return product\n",
        "\n",
        "multiplication(4,2)\n",
        "multiplication(5,10)"
      ],
      "metadata": {
        "colab": {
          "base_uri": "https://localhost:8080/"
        },
        "id": "q_MkEznWBLFK",
        "outputId": "38561036-90a0-4cd6-9c39-685aa7e8ba84"
      },
      "execution_count": 3,
      "outputs": [
        {
          "output_type": "execute_result",
          "data": {
            "text/plain": [
              "50"
            ]
          },
          "metadata": {},
          "execution_count": 3
        }
      ]
    },
    {
      "cell_type": "code",
      "source": [
        "def subtraction(e,f):\n",
        "  Difference = e-f\n",
        "  return Difference\n",
        "subtraction(50,28)"
      ],
      "metadata": {
        "colab": {
          "base_uri": "https://localhost:8080/"
        },
        "id": "8dZ34VR6C-cE",
        "outputId": "4bfa599b-cffc-4ca7-eb9a-6673ca18d9bd"
      },
      "execution_count": 5,
      "outputs": [
        {
          "output_type": "stream",
          "name": "stdout",
          "text": [
            "22\n"
          ]
        }
      ]
    },
    {
      "cell_type": "code",
      "source": [
        "def Division(z,w):\n",
        "  divide = z/w\n",
        "  return divide\n",
        "Division(4,2)"
      ],
      "metadata": {
        "colab": {
          "base_uri": "https://localhost:8080/"
        },
        "id": "uNrarZKhE77H",
        "outputId": "abae3c22-35b0-4423-b708-541356f9ab42"
      },
      "execution_count": 8,
      "outputs": [
        {
          "output_type": "execute_result",
          "data": {
            "text/plain": [
              "2.0"
            ]
          },
          "metadata": {},
          "execution_count": 8
        }
      ]
    },
    {
      "cell_type": "code",
      "source": [
        "name = \"Brave\"\n",
        "\n",
        "def printname(name): # variables that we define or overwrite within a function stays within the function only\n",
        "  print (f\"The most secure {name} is\")\n",
        "\n",
        "printname(\"browser\")\n",
        "print (name)"
      ],
      "metadata": {
        "colab": {
          "base_uri": "https://localhost:8080/"
        },
        "id": "RD2BHNhSJAJD",
        "outputId": "fdd576ce-877b-44cc-d3bd-d9f8bcd54967"
      },
      "execution_count": 10,
      "outputs": [
        {
          "output_type": "stream",
          "name": "stdout",
          "text": [
            "The most secure browser is\n",
            "Brave\n"
          ]
        }
      ]
    },
    {
      "cell_type": "code",
      "source": [
        "x = 2 # This x that is defined here is called as Global Variable ( The variables that are declared outside the function are called global variables. These variables can be accessed or invoked by any function in the program.)\n",
        "print (f\"Position 1. {x}\")\n",
        "def summation(x,y):\n",
        "  print (f\"Position 2. {x}\")\n",
        "  print (f\"Position  3. {x}\")\n",
        "  return x\n",
        "\n",
        "print (summation(x,10))\n",
        "print (f\"Position  4. {x}\")"
      ],
      "metadata": {
        "colab": {
          "base_uri": "https://localhost:8080/"
        },
        "id": "7Cz8h1yEFuR0",
        "outputId": "2b8a81fb-f6d6-4dcb-c352-023a9fc8c533"
      },
      "execution_count": 3,
      "outputs": [
        {
          "output_type": "stream",
          "name": "stdout",
          "text": [
            "Position 1. 2\n",
            "Position 2. 2\n",
            "Position  3. 2\n",
            "2\n",
            "Position  4. 2\n"
          ]
        }
      ]
    },
    {
      "cell_type": "code",
      "source": [
        "x = 2 # This x that is defined here is called as Global Variable ( The variables that are declared outside the function are called global variables. These variables can be accessed or invoked by any function in the program.)\n",
        "print (f\"Position 1. {x}\")\n",
        "def summation(x,y):\n",
        "  print (f\"Position 2. {x}\")\n",
        "  z = 25\n",
        "  x = 40\n",
        "  print (f\"Position  3. {x}\")\n",
        "  sum = x+y+z\n",
        "  return sum\n",
        "\n",
        "print (summation(x,10))\n",
        "print (f\"Position  4. {x}\")"
      ],
      "metadata": {
        "colab": {
          "base_uri": "https://localhost:8080/"
        },
        "id": "0SmCFZiAcZR1",
        "outputId": "6da1fa6e-0388-435f-cd37-30a1efc5a812"
      },
      "execution_count": 4,
      "outputs": [
        {
          "output_type": "stream",
          "name": "stdout",
          "text": [
            "Position 1. 2\n",
            "Position 2. 2\n",
            "Position  3. 40\n",
            "75\n",
            "Position  4. 2\n"
          ]
        }
      ]
    },
    {
      "cell_type": "code",
      "source": [
        "# Questions\n",
        "\n",
        "'''\n",
        "1. In Python, a variable must be declared before it is assigned a value?\n",
        "  A: False\n",
        "      Declarations means telling its datatype but in Python there's no need of declaration to variable. We can give any value.\n",
        "\n",
        "2. Write a Python code to assign a value 100 to a variable and add it with 20?\n",
        "  A: x = 100\n",
        "     print ( x + 20)\n",
        "\n",
        "     Output: 120\n",
        "3. In Python, a variable may be assigned a value of one type, and then\n",
        "later assigned a value of a different type:\n",
        "   A: True\n",
        "\n",
        "4. a. route66\n",
        "   b. home_address\n",
        "   c. ver1.3 (Invalid)\n",
        "   d. Age\n",
        "   e. 4square\n",
        "   f. return (Invalid)\n",
        "\n",
        "5. a. x,y,z = 10,20,30\n",
        "   b. x,y,z = 10,'Hello',True\n",
        "   c. x = 10, y = 'Hello', z = True\n",
        "\n",
        "6. x = 10\n",
        "   y = 20\n",
        "   x,y = y,x\n",
        "   print(x,y)\n",
        "\n",
        "   A: Output : 20, 10"
      ],
      "metadata": {
        "colab": {
          "base_uri": "https://localhost:8080/",
          "height": 140
        },
        "id": "KTL8jsjumQlo",
        "outputId": "fb582894-4665-42a9-d05c-a8339b778b2a"
      },
      "execution_count": 2,
      "outputs": [
        {
          "output_type": "error",
          "ename": "SyntaxError",
          "evalue": "ignored",
          "traceback": [
            "\u001b[0;36m  File \u001b[0;32m\"<ipython-input-2-845f4b75a423>\"\u001b[0;36m, line \u001b[0;32m3\u001b[0m\n\u001b[0;31m    '''\u001b[0m\n\u001b[0m    ^\u001b[0m\n\u001b[0;31mSyntaxError\u001b[0m\u001b[0;31m:\u001b[0m incomplete input\n"
          ]
        }
      ]
    },
    {
      "cell_type": "code",
      "source": [
        "## Datatypes\n",
        "'''\n",
        "Text : str\n",
        "Numeric : int,float\n",
        "Sequence : lists,tuple,Range\n",
        "Mapping : Dictionaries\n",
        "Boolean Datatypes : True, False\n",
        "'''\n",
        "\n",
        "# To check the type of variable, we have keyword called type\n",
        "\n",
        "x = \"Brand\"\n",
        "type(x)"
      ],
      "metadata": {
        "colab": {
          "base_uri": "https://localhost:8080/"
        },
        "id": "C_k1k6qr3ZoZ",
        "outputId": "db2e5766-f285-4ff2-f524-c6a01f013609"
      },
      "execution_count": 2,
      "outputs": [
        {
          "output_type": "execute_result",
          "data": {
            "text/plain": [
              "str"
            ]
          },
          "metadata": {},
          "execution_count": 2
        }
      ]
    },
    {
      "cell_type": "code",
      "source": [
        "x = 80\n",
        "y = 4.567\n",
        "z = \"23\"\n",
        "print (type(x))\n",
        "print (type(y))\n",
        "print (type(z))\n"
      ],
      "metadata": {
        "colab": {
          "base_uri": "https://localhost:8080/"
        },
        "id": "snhww4CJ4KrX",
        "outputId": "ae744a5a-0f18-4a15-e7d9-9741c7ad0a5b"
      },
      "execution_count": 7,
      "outputs": [
        {
          "output_type": "stream",
          "name": "stdout",
          "text": [
            "<class 'int'>\n",
            "<class 'float'>\n",
            "<class 'str'>\n"
          ]
        }
      ]
    },
    {
      "cell_type": "code",
      "source": [
        "x,y = True, False\n",
        "\n",
        "print (type(x))\n",
        "print (type(y))"
      ],
      "metadata": {
        "colab": {
          "base_uri": "https://localhost:8080/"
        },
        "id": "WP-Oy2tU4eQv",
        "outputId": "42759ed5-abc5-4111-ad6d-ced84292b1d8"
      },
      "execution_count": 5,
      "outputs": [
        {
          "output_type": "stream",
          "name": "stdout",
          "text": [
            "<class 'bool'>\n",
            "<class 'bool'>\n"
          ]
        }
      ]
    },
    {
      "cell_type": "code",
      "source": [
        "# To Convert one datatype to other datatype we use typecasting\n",
        "x = 6\n",
        "y = 12.65\n",
        "z = \"23\"\n",
        "\n",
        "int(y)\n"
      ],
      "metadata": {
        "colab": {
          "base_uri": "https://localhost:8080/"
        },
        "id": "mFiX4T2r5Vbx",
        "outputId": "7e8e4f72-c358-4a4a-d29d-4b294e5c9504"
      },
      "execution_count": 12,
      "outputs": [
        {
          "output_type": "execute_result",
          "data": {
            "text/plain": [
              "12"
            ]
          },
          "metadata": {},
          "execution_count": 12
        }
      ]
    },
    {
      "cell_type": "code",
      "source": [
        "x = 6\n",
        "y = 12.65\n",
        "z = \"23\"\n",
        "\n",
        "print (int(y))\n",
        "print (float(z))"
      ],
      "metadata": {
        "colab": {
          "base_uri": "https://localhost:8080/"
        },
        "id": "Eyh2eP5e52Yg",
        "outputId": "88f10fb0-bf68-4e46-ec9b-8d5c05dec367"
      },
      "execution_count": 13,
      "outputs": [
        {
          "output_type": "stream",
          "name": "stdout",
          "text": [
            "12\n",
            "23.0\n"
          ]
        }
      ]
    },
    {
      "cell_type": "code",
      "source": [
        "x = 6\n",
        "y = 12.65\n",
        "z = \"23\"\n",
        "\n",
        "y = int(y)\n",
        "y = float(y)\n",
        "str(y)"
      ],
      "metadata": {
        "colab": {
          "base_uri": "https://localhost:8080/",
          "height": 35
        },
        "id": "DY460Msq7fUu",
        "outputId": "2c82a043-c692-4326-fd47-c182fdcbff5d"
      },
      "execution_count": 18,
      "outputs": [
        {
          "output_type": "execute_result",
          "data": {
            "text/plain": [
              "'12.0'"
            ],
            "application/vnd.google.colaboratory.intrinsic+json": {
              "type": "string"
            }
          },
          "metadata": {},
          "execution_count": 18
        }
      ]
    },
    {
      "cell_type": "code",
      "source": [
        "'''\n",
        "Write a code that Declares 3 variables which are numbers as strings with values 2,3,4 and write a function that\n",
        "converts these to integers and find the product?\n",
        "'''\n"
      ],
      "metadata": {
        "colab": {
          "base_uri": "https://localhost:8080/",
          "height": 53
        },
        "id": "yjFVpgl57nqb",
        "outputId": "760285ee-cef8-418f-bea9-5964b9023b3d"
      },
      "execution_count": 19,
      "outputs": [
        {
          "output_type": "execute_result",
          "data": {
            "text/plain": [
              "'\\nWrite a code that Declares 3 variables which are numbers as strings with values 2,3,4 and write a function that \\nconverts these to integers and find the product?\\n'"
            ],
            "application/vnd.google.colaboratory.intrinsic+json": {
              "type": "string"
            }
          },
          "metadata": {},
          "execution_count": 19
        }
      ]
    },
    {
      "cell_type": "code",
      "source": [
        "x = \"2\"\n",
        "y = \"3\"\n",
        "z = \"4\"\n",
        "\n",
        "def sum(x,y,z):\n",
        "  x = int(x)\n",
        "  y = int(y)\n",
        "  z = int(z)\n",
        "  prod = x*y*z\n",
        "  return prod\n",
        "\n",
        "print (sum(x,y,z))"
      ],
      "metadata": {
        "colab": {
          "base_uri": "https://localhost:8080/"
        },
        "id": "r3RXsyMk9SxO",
        "outputId": "5d94c2e7-efeb-43a0-8c17-7c72638664e9"
      },
      "execution_count": 22,
      "outputs": [
        {
          "output_type": "stream",
          "name": "stdout",
          "text": [
            "24\n"
          ]
        }
      ]
    },
    {
      "cell_type": "code",
      "source": [
        "# Indexing: To access the element in a word\n",
        "# Indexing is always is in [] square bracket\n",
        "# In entire Python positioning always starts from 0\n",
        "\n",
        "x = \"apple\"\n",
        "\n",
        "x[0]"
      ],
      "metadata": {
        "colab": {
          "base_uri": "https://localhost:8080/",
          "height": 35
        },
        "id": "UQmPBZ8O-mh8",
        "outputId": "36ea5c38-a684-49fd-a07a-abbef18b7739"
      },
      "execution_count": 9,
      "outputs": [
        {
          "output_type": "execute_result",
          "data": {
            "text/plain": [
              "'a'"
            ],
            "application/vnd.google.colaboratory.intrinsic+json": {
              "type": "string"
            }
          },
          "metadata": {},
          "execution_count": 9
        }
      ]
    },
    {
      "cell_type": "code",
      "source": [
        "'''\n",
        "word : apple\n",
        "\n",
        "There are two types of indexing in python\n",
        "\n",
        "1. Positive Indexing : a - 0, p - 1, p - 2, l - 3, e - 4\n",
        "2. Negative Indexing : e - -1, l - -2,p - -3, p - -4, a - -5\n",
        "'''\n",
        "\n",
        "print (x[0])\n",
        "print (x[-5])"
      ],
      "metadata": {
        "colab": {
          "base_uri": "https://localhost:8080/"
        },
        "id": "BLDRM52GafqB",
        "outputId": "d9b9fb71-6703-401c-96e5-0f14108edaf2"
      },
      "execution_count": 10,
      "outputs": [
        {
          "output_type": "stream",
          "name": "stdout",
          "text": [
            "a\n",
            "a\n"
          ]
        }
      ]
    },
    {
      "cell_type": "code",
      "source": [
        "print (x[1])\n",
        "print (x[-2])\n"
      ],
      "metadata": {
        "colab": {
          "base_uri": "https://localhost:8080/"
        },
        "id": "bn_eq6K-bASf",
        "outputId": "d8083a12-5302-485b-a109-c522a2611083"
      },
      "execution_count": 12,
      "outputs": [
        {
          "output_type": "stream",
          "name": "stdout",
          "text": [
            "p\n",
            "l\n"
          ]
        }
      ]
    },
    {
      "cell_type": "code",
      "source": [
        "x = \"orange\"\n",
        "\n",
        "x[0 : 3] #startposition : endposition+1  (if we give [0 : 2] python thinks that it is upto 2, not till 2)\n",
        "\n",
        "'''\n",
        "o - 0 , -6\n",
        "r - 1 , -5\n",
        "a - 2 , -4\n",
        "n - 3 , -3\n",
        "g - 4 , -2\n",
        "e - 5 , -1\n",
        "'''"
      ],
      "metadata": {
        "colab": {
          "base_uri": "https://localhost:8080/",
          "height": 35
        },
        "id": "Y7Eb-Kipevqf",
        "outputId": "6d5a6ca0-1879-4fd3-9c88-5c61d47d3723"
      },
      "execution_count": 14,
      "outputs": [
        {
          "output_type": "execute_result",
          "data": {
            "text/plain": [
              "'ora'"
            ],
            "application/vnd.google.colaboratory.intrinsic+json": {
              "type": "string"
            }
          },
          "metadata": {},
          "execution_count": 14
        }
      ]
    },
    {
      "cell_type": "code",
      "source": [
        "x[-4 : -1]"
      ],
      "metadata": {
        "colab": {
          "base_uri": "https://localhost:8080/",
          "height": 35
        },
        "id": "8YoLHAWRfOTB",
        "outputId": "b98f08fe-c69b-4eb4-c455-aa34c6e98e51"
      },
      "execution_count": 15,
      "outputs": [
        {
          "output_type": "execute_result",
          "data": {
            "text/plain": [
              "'ang'"
            ],
            "application/vnd.google.colaboratory.intrinsic+json": {
              "type": "string"
            }
          },
          "metadata": {},
          "execution_count": 15
        }
      ]
    },
    {
      "cell_type": "code",
      "source": [],
      "metadata": {
        "id": "_Jbd0VoqiRwI"
      },
      "execution_count": null,
      "outputs": []
    }
  ]
}